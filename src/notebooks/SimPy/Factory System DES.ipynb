{
 "cells": [
  {
   "cell_type": "markdown",
   "metadata": {},
   "source": [
    "# Factory System Discrete Event Simulator"
   ]
  },
  {
   "cell_type": "markdown",
   "metadata": {},
   "source": [
    "https://www.youtube.com/watch?v=G2WftFiBRFg&list=LLGrrsXL3m0dnrQoX3KX0-Dg&index=6&t=0s"
   ]
  },
  {
   "cell_type": "code",
   "execution_count": 40,
   "metadata": {},
   "outputs": [],
   "source": [
    "import simpy\n",
    "\n",
    "import numpy as np"
   ]
  },
  {
   "cell_type": "code",
   "execution_count": 41,
   "metadata": {},
   "outputs": [],
   "source": [
    "np.random.seed(0)"
   ]
  },
  {
   "cell_type": "code",
   "execution_count": 42,
   "metadata": {},
   "outputs": [],
   "source": [
    "def factory_run(env, repairers, spares):\n",
    "    \n",
    "    global cost\n",
    "    \n",
    "    cost = 0.0\n",
    "    \n",
    "    for i in range(50):\n",
    "        # Create machine instances\n",
    "        env.process(operate_machine(env, repairers, spares))\n",
    "    \n",
    "    while True:\n",
    "        cost += 3.75*8*repairers.capacity + 30*spares.capacity\n",
    "        yield env.timeout(8.0)"
   ]
  },
  {
   "cell_type": "code",
   "execution_count": 43,
   "metadata": {},
   "outputs": [],
   "source": [
    "def operate_machine(env, repairers, spares):\n",
    "    global cost\n",
    "    \n",
    "    while True:\n",
    "        yield env.timeout(time_to_failure())\n",
    "        t_broken = env.now()\n",
    "        print(f'{t_broken:0.2f} machine broken')\n",
    "        \n",
    "        # launch repair process\n",
    "        yield spares.get(1)\n",
    "        t_replaced = env.now()\n",
    "        print(f'{t_replaced:0.2f} machine replaced')\n",
    "        \n",
    "        cost += 20*(t_replaced-t_broken)"
   ]
  },
  {
   "cell_type": "code",
   "execution_count": 51,
   "metadata": {},
   "outputs": [],
   "source": [
    "def repair_machine(env, repairers, spares):\n",
    "    with repairers.request() as request:\n",
    "        yield request\n",
    "        yield env.timeout(generate_repair_time())\n",
    "        yield spares.put(1)"
   ]
  },
  {
   "cell_type": "code",
   "execution_count": 52,
   "metadata": {},
   "outputs": [],
   "source": [
    "def time_to_failure():\n",
    "    return np.random.uniform(132,182)"
   ]
  },
  {
   "cell_type": "code",
   "execution_count": null,
   "metadata": {},
   "outputs": [],
   "source": []
  },
  {
   "cell_type": "code",
   "execution_count": null,
   "metadata": {},
   "outputs": [],
   "source": []
  },
  {
   "cell_type": "code",
   "execution_count": null,
   "metadata": {},
   "outputs": [],
   "source": []
  },
  {
   "cell_type": "code",
   "execution_count": 53,
   "metadata": {},
   "outputs": [],
   "source": [
    "env = simpy.Environment()"
   ]
  },
  {
   "cell_type": "code",
   "execution_count": 54,
   "metadata": {},
   "outputs": [],
   "source": [
    "repairers = simpy.Resource(env, capacity=3)"
   ]
  },
  {
   "cell_type": "code",
   "execution_count": 55,
   "metadata": {},
   "outputs": [],
   "source": [
    "spares = simpy.Container(env, init=20, capacity=20)"
   ]
  },
  {
   "cell_type": "code",
   "execution_count": 56,
   "metadata": {},
   "outputs": [
    {
     "data": {
      "text/plain": [
       "<Process(factory_run) object at 0x29657f80748>"
      ]
     },
     "execution_count": 56,
     "metadata": {},
     "output_type": "execute_result"
    }
   ],
   "source": [
    "env.process(factory_run(env, repairers, spares))"
   ]
  },
  {
   "cell_type": "code",
   "execution_count": 57,
   "metadata": {},
   "outputs": [],
   "source": [
    "env.run(until=8*5) # unit of time is hours (8 hours over 5 days)"
   ]
  },
  {
   "cell_type": "code",
   "execution_count": null,
   "metadata": {},
   "outputs": [],
   "source": []
  }
 ],
 "metadata": {
  "kernelspec": {
   "display_name": "Python 3",
   "language": "python",
   "name": "python3"
  },
  "language_info": {
   "codemirror_mode": {
    "name": "ipython",
    "version": 3
   },
   "file_extension": ".py",
   "mimetype": "text/x-python",
   "name": "python",
   "nbconvert_exporter": "python",
   "pygments_lexer": "ipython3",
   "version": "3.7.3"
  }
 },
 "nbformat": 4,
 "nbformat_minor": 4
}
