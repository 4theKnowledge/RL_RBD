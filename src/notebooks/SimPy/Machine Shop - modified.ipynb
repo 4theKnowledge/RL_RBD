{
 "cells": [
  {
   "cell_type": "markdown",
   "metadata": {},
   "source": [
    "# Machine Shop Example"
   ]
  },
  {
   "cell_type": "markdown",
   "metadata": {},
   "source": [
    "https://simpy.readthedocs.io/en/latest/examples/machine_shop.html"
   ]
  },
  {
   "cell_type": "code",
   "execution_count": 55,
   "metadata": {},
   "outputs": [
    {
     "data": {
      "text/plain": [
       "'\\nMachine shop example\\n\\nCovers:\\n\\n- Interrupts\\n- Resources: PreemptiveResource\\n\\nScenario:\\n  A workshop has *n* identical machines. A stream of jobs (enough to\\n  keep the machines busy) arrives. Each machine breaks down\\n  periodically. Repairs are carried out by one repairman. The repairman\\n  has other, less important tasks to perform, too. Broken machines\\n  preempt theses tasks. The repairman continues them when he is done\\n  with the machine repair. The workshop works continuously.\\n\\n'"
      ]
     },
     "execution_count": 55,
     "metadata": {},
     "output_type": "execute_result"
    }
   ],
   "source": [
    "\"\"\"\n",
    "Machine shop example\n",
    "\n",
    "Covers:\n",
    "\n",
    "- Interrupts\n",
    "- Resources: PreemptiveResource\n",
    "\n",
    "Scenario:\n",
    "  A workshop has *n* identical machines. A stream of jobs (enough to\n",
    "  keep the machines busy) arrives. Each machine breaks down\n",
    "  periodically. Repairs are carried out by one repairman. The repairman\n",
    "  has other, less important tasks to perform, too. Broken machines\n",
    "  preempt theses tasks. The repairman continues them when he is done\n",
    "  with the machine repair. The workshop works continuously.\n",
    "\n",
    "\"\"\""
   ]
  },
  {
   "cell_type": "code",
   "execution_count": 56,
   "metadata": {},
   "outputs": [],
   "source": [
    "import random\n",
    "import simpy\n",
    "import numpy as np\n",
    "import pandas as pd\n",
    "import matplotlib.pyplot as plt\n",
    "\n",
    "RANDOM_SEED = 42"
   ]
  },
  {
   "cell_type": "code",
   "execution_count": 309,
   "metadata": {},
   "outputs": [],
   "source": [
    "REPAIR_TIME = 30.0     # Time it takes to repair a machine in minutes\n",
    "JOB_DURATION = 30.0    # Duration of other jobs in minutes\n",
    "NUM_MACHINES = 3     # Number of machines in the machine shop\n",
    "WEEKS = 4              # Simulation time in weeks\n",
    "SIM_TIME = WEEKS * 7 * 24 * 60  # Simulation time in minutes"
   ]
  },
  {
   "cell_type": "code",
   "execution_count": 310,
   "metadata": {},
   "outputs": [],
   "source": [
    "# PT_MEAN - Avg. processing time in minutes\n",
    "# PT_SIGMA - Sigma of processing time\n",
    "# MTTF - Mean time to failure in minutes\n",
    "machineClasses = {'A': \n",
    "                  {'PT_MEAN': 10.0,\n",
    "                   'PT_SIGMA': 2.0,\n",
    "                   'MTTF': 300.0},\n",
    "                  'B':\n",
    "                  {'PT_MEAN': 10.0,\n",
    "                   'PT_SIGMA': 2.0,\n",
    "                   'MTTF': 400.0},\n",
    "                  'C':\n",
    "                  {'PT_MEAN': 10.0,\n",
    "                   'PT_SIGMA': 2.0,\n",
    "                   'MTTF': 50.0}\n",
    "                 }"
   ]
  },
  {
   "cell_type": "code",
   "execution_count": 311,
   "metadata": {},
   "outputs": [],
   "source": [
    "# Choose random machine classification\n",
    "def randMachineClass():\n",
    "    return random.choice(list(machineClasses.keys()))"
   ]
  },
  {
   "cell_type": "code",
   "execution_count": 312,
   "metadata": {},
   "outputs": [],
   "source": [
    "class Machine(object):\n",
    "    \"\"\"A machine produces parts and my get broken every now and then.\n",
    "\n",
    "    If it breaks, it requests a *repairman* and continues the production\n",
    "    after the it is repaired.\n",
    "\n",
    "    A machine has a *name*, classification and a numberof *parts_made* thus far.\n",
    "\n",
    "    \"\"\"\n",
    "    def __init__(self, env, name, classification, repairman):\n",
    "        self.env = env\n",
    "        self.name = name\n",
    "        self.classification = classification\n",
    "        self.parts_made = 0\n",
    "        self.broken = False\n",
    "        \n",
    "        self.stateObs = []\n",
    "        \n",
    "        \n",
    "        # Start \"working\" and \"break_machine\" processes for this machine.\n",
    "        self.process = env.process(self.working(repairman))\n",
    "        env.process(self.break_machine())\n",
    "        env.process(self.observe())\n",
    "                \n",
    "\n",
    "    def working(self, repairman):\n",
    "        \"\"\"Produce parts as long as the simulation runs.\n",
    "\n",
    "        While making a part, the machine may break multiple times.\n",
    "        Request a repairman when this happens.\n",
    "\n",
    "        \"\"\"\n",
    "        while True:\n",
    "            # Start making a new part\n",
    "            done_in = self.time_per_part()\n",
    "            while done_in:\n",
    "                try:\n",
    "                    # Working on the part\n",
    "                    start = self.env.now\n",
    "                    yield self.env.timeout(done_in)\n",
    "                    done_in = 0  # Set to 0 to exit while loop.\n",
    "\n",
    "                except simpy.Interrupt:\n",
    "#                     print(f'Machine {self.name} ({self.classification}) broke at {env.now}')\n",
    "                    \n",
    "                    self.broken = True\n",
    "                    done_in -= self.env.now - start  # How much time left?\n",
    "\n",
    "                    # Request a repairman. This will preempt its \"other_job\".\n",
    "                    with repairman.request(priority=1) as req:\n",
    "                        yield req\n",
    "                        yield self.env.timeout(REPAIR_TIME)\n",
    "\n",
    "                    self.broken = False\n",
    "\n",
    "            # Part is done.\n",
    "            self.parts_made += 1\n",
    "\n",
    "    def break_machine(self):\n",
    "        \"\"\"Break the machine every now and then.\"\"\"\n",
    "        while True:\n",
    "            yield self.env.timeout(self.time_to_failure())\n",
    "            if not self.broken:\n",
    "                # Only break the machine if it is currently working.\n",
    "                self.process.interrupt()\n",
    "                \n",
    "    def time_per_part(self):\n",
    "        \"\"\"Return actual processing time for a concrete part.\"\"\"\n",
    "        return random.normalvariate(machineClasses[self.classification]['PT_MEAN'], machineClasses[self.classification]['PT_SIGMA'])\n",
    "    \n",
    "    def time_to_failure(self):\n",
    "        \"\"\"Return time until next failure for a machine.\"\"\"\n",
    "        BREAK_MEAN = 1/machineClasses[self.classification]['MTTF']   # Param. for expovariate distribution\n",
    "        return random.expovariate(BREAK_MEAN)\n",
    "\n",
    "    def observe(self):\n",
    "        while True:\n",
    "            self.stateObs.append([env.now, self.broken])\n",
    "            yield env.timeout(1.0) # measure every 1 timestep"
   ]
  },
  {
   "cell_type": "code",
   "execution_count": 313,
   "metadata": {},
   "outputs": [],
   "source": [
    "def other_jobs(env, repairman):\n",
    "    \"\"\"The repairman's other (unimportant) job.\"\"\"\n",
    "    while True:\n",
    "        # Start a new job\n",
    "        done_in = JOB_DURATION\n",
    "        while done_in:\n",
    "            # Retry the job until it is done.\n",
    "            # It's priority is lower than that of machine repairs.\n",
    "            with repairman.request(priority=2) as req:\n",
    "                yield req\n",
    "                try:\n",
    "                    start = env.now\n",
    "                    yield env.timeout(done_in)\n",
    "                    done_in = 0\n",
    "                except simpy.Interrupt:\n",
    "                    done_in -= env.now - start"
   ]
  },
  {
   "cell_type": "code",
   "execution_count": 314,
   "metadata": {},
   "outputs": [
    {
     "name": "stdout",
     "output_type": "stream",
     "text": [
      "Machine shop\n"
     ]
    }
   ],
   "source": [
    "# Setup and start the simulation\n",
    "print('Machine shop')\n",
    "random.seed(RANDOM_SEED)  # This helps reproducing the results"
   ]
  },
  {
   "cell_type": "code",
   "execution_count": 315,
   "metadata": {},
   "outputs": [
    {
     "data": {
      "text/plain": [
       "<Process(other_jobs) object at 0x1843b3efe80>"
      ]
     },
     "execution_count": 315,
     "metadata": {},
     "output_type": "execute_result"
    }
   ],
   "source": [
    "# Create an environment and start the setup process\n",
    "env = simpy.Environment()\n",
    "repairman = simpy.PreemptiveResource(env, capacity=1)\n",
    "machines = [Machine(env, 'Machine %d' % i, randMachineClass(), repairman) for i in range(NUM_MACHINES)]\n",
    "env.process(other_jobs(env, repairman))"
   ]
  },
  {
   "cell_type": "code",
   "execution_count": 317,
   "metadata": {},
   "outputs": [],
   "source": [
    "# Execute!\n",
    "env.run(until=SIM_TIME)"
   ]
  },
  {
   "cell_type": "code",
   "execution_count": 318,
   "metadata": {},
   "outputs": [
    {
     "name": "stdout",
     "output_type": "stream",
     "text": [
      "Machine shop results after 4 weeks\n",
      "Machine 0 (C) made 2351 parts.\n",
      "Machine 1 (A) made 3562 parts.\n",
      "Machine 2 (A) made 3606 parts.\n"
     ]
    }
   ],
   "source": [
    "# Analyis/results\n",
    "print('Machine shop results after %s weeks' % WEEKS)\n",
    "for machine in machines:\n",
    "    print(f'{machine.name} ({machine.classification}) made {machine.parts_made} parts.')"
   ]
  },
  {
   "cell_type": "code",
   "execution_count": 319,
   "metadata": {},
   "outputs": [],
   "source": [
    "def systemStats(machines):\n",
    "    return np.array([machine.parts_made for machine in machines]).mean()"
   ]
  },
  {
   "cell_type": "code",
   "execution_count": 320,
   "metadata": {},
   "outputs": [
    {
     "data": {
      "text/plain": [
       "3173.0"
      ]
     },
     "execution_count": 320,
     "metadata": {},
     "output_type": "execute_result"
    }
   ],
   "source": [
    "systemStats(machines)"
   ]
  },
  {
   "cell_type": "code",
   "execution_count": 321,
   "metadata": {},
   "outputs": [],
   "source": [
    "dfStore = pd.DataFrame()\n",
    "for machine in machines:\n",
    "    time = [record[0] for record in machine.statObs]\n",
    "    state = [record[1] for record in machine.statObs]\n",
    "    \n",
    "    df = pd.DataFrame(data={'machine': machine.name, 'class': machine.classification,\n",
    "                           'time': time, 'state': state})\n",
    "    \n",
    "    dfStore = pd.concat([dfStore, df])"
   ]
  },
  {
   "cell_type": "code",
   "execution_count": 322,
   "metadata": {},
   "outputs": [
    {
     "data": {
      "text/html": [
       "<div>\n",
       "<style scoped>\n",
       "    .dataframe tbody tr th:only-of-type {\n",
       "        vertical-align: middle;\n",
       "    }\n",
       "\n",
       "    .dataframe tbody tr th {\n",
       "        vertical-align: top;\n",
       "    }\n",
       "\n",
       "    .dataframe thead th {\n",
       "        text-align: right;\n",
       "    }\n",
       "</style>\n",
       "<table border=\"1\" class=\"dataframe\">\n",
       "  <thead>\n",
       "    <tr style=\"text-align: right;\">\n",
       "      <th></th>\n",
       "      <th>machine</th>\n",
       "      <th>class</th>\n",
       "      <th>time</th>\n",
       "      <th>state</th>\n",
       "    </tr>\n",
       "  </thead>\n",
       "  <tbody>\n",
       "    <tr>\n",
       "      <th>0</th>\n",
       "      <td>Machine 0</td>\n",
       "      <td>C</td>\n",
       "      <td>0.0</td>\n",
       "      <td>False</td>\n",
       "    </tr>\n",
       "    <tr>\n",
       "      <th>1</th>\n",
       "      <td>Machine 0</td>\n",
       "      <td>C</td>\n",
       "      <td>1.0</td>\n",
       "      <td>False</td>\n",
       "    </tr>\n",
       "    <tr>\n",
       "      <th>2</th>\n",
       "      <td>Machine 0</td>\n",
       "      <td>C</td>\n",
       "      <td>2.0</td>\n",
       "      <td>False</td>\n",
       "    </tr>\n",
       "    <tr>\n",
       "      <th>3</th>\n",
       "      <td>Machine 0</td>\n",
       "      <td>C</td>\n",
       "      <td>3.0</td>\n",
       "      <td>False</td>\n",
       "    </tr>\n",
       "    <tr>\n",
       "      <th>4</th>\n",
       "      <td>Machine 0</td>\n",
       "      <td>C</td>\n",
       "      <td>4.0</td>\n",
       "      <td>False</td>\n",
       "    </tr>\n",
       "  </tbody>\n",
       "</table>\n",
       "</div>"
      ],
      "text/plain": [
       "     machine class  time  state\n",
       "0  Machine 0     C   0.0  False\n",
       "1  Machine 0     C   1.0  False\n",
       "2  Machine 0     C   2.0  False\n",
       "3  Machine 0     C   3.0  False\n",
       "4  Machine 0     C   4.0  False"
      ]
     },
     "execution_count": 322,
     "metadata": {},
     "output_type": "execute_result"
    }
   ],
   "source": [
    "dfStore.head()"
   ]
  },
  {
   "cell_type": "code",
   "execution_count": 323,
   "metadata": {},
   "outputs": [],
   "source": [
    "# Calculate system availability (assumption - linear model)\n",
    "dfSystemState = dfStore.groupby(['time'])['state'].sum()"
   ]
  },
  {
   "cell_type": "code",
   "execution_count": 324,
   "metadata": {},
   "outputs": [
    {
     "data": {
      "text/plain": [
       "<matplotlib.axes._subplots.AxesSubplot at 0x1843c52fbe0>"
      ]
     },
     "execution_count": 324,
     "metadata": {},
     "output_type": "execute_result"
    },
    {
     "data": {
      "image/png": "[encoded data removed]",
      "text/plain": [
       "<Figure size 432x288 with 1 Axes>"
      ]
     },
     "metadata": {
      "needs_background": "light"
     },
     "output_type": "display_data"
    }
   ],
   "source": [
    "dfSystemState.plot()"
   ]
  },
  {
   "cell_type": "code",
   "execution_count": 325,
   "metadata": {},
   "outputs": [
    {
     "data": {
      "text/plain": [
       "18360"
      ]
     },
     "execution_count": 325,
     "metadata": {},
     "output_type": "execute_result"
    }
   ],
   "source": [
    "# Number of zero events where all machines are in operating state\n",
    "(dfSystemState == 0).astype(int).sum()"
   ]
  },
  {
   "cell_type": "code",
   "execution_count": 326,
   "metadata": {},
   "outputs": [
    {
     "name": "stdout",
     "output_type": "stream",
     "text": [
      "45.54%\n"
     ]
    }
   ],
   "source": [
    "availability = ((dfSystemState == 0).astype(int).sum()/SIM_TIME) * 100\n",
    "print(f'{availability:0.2f}%')"
   ]
  },
  {
   "cell_type": "code",
   "execution_count": null,
   "metadata": {},
   "outputs": [],
   "source": []
  },
  {
   "cell_type": "code",
   "execution_count": null,
   "metadata": {},
   "outputs": [],
   "source": []
  },
  {
   "cell_type": "code",
   "execution_count": null,
   "metadata": {},
   "outputs": [],
   "source": []
  },
  {
   "cell_type": "code",
   "execution_count": null,
   "metadata": {},
   "outputs": [],
   "source": []
  },
  {
   "cell_type": "code",
   "execution_count": null,
   "metadata": {},
   "outputs": [],
   "source": []
  },
  {
   "cell_type": "markdown",
   "metadata": {},
   "source": [
    "# Goal is to try and learn that machine 'A' is the best one"
   ]
  },
  {
   "cell_type": "markdown",
   "metadata": {},
   "source": [
    "## Assumption: System is a linear combination of machines"
   ]
  },
  {
   "cell_type": "code",
   "execution_count": null,
   "metadata": {},
   "outputs": [],
   "source": []
  }
 ],
 "metadata": {
  "kernelspec": {
   "display_name": "Python 3",
   "language": "python",
   "name": "python3"
  },
  "language_info": {
   "codemirror_mode": {
    "name": "ipython",
    "version": 3
   },
   "file_extension": ".py",
   "mimetype": "text/x-python",
   "name": "python",
   "nbconvert_exporter": "python",
   "pygments_lexer": "ipython3",
   "version": "3.7.3"
  }
 },
 "nbformat": 4,
 "nbformat_minor": 4
}
