{
 "cells": [
  {
   "cell_type": "markdown",
   "metadata": {},
   "source": [
    "# Determining minimum-cutsets of DAGs"
   ]
  },
  {
   "cell_type": "code",
   "execution_count": 119,
   "metadata": {},
   "outputs": [],
   "source": [
    "import numpy as np\n",
    "import networkx as nx\n",
    "import matplotlib.pyplot as plt\n",
    "from matplotlib import cm    # For node colour map "
   ]
  },
  {
   "cell_type": "code",
   "execution_count": 120,
   "metadata": {},
   "outputs": [],
   "source": [
    "# A - adjacency matrix (node and edges)\n",
    "# an entire row of 1s indicates arrows away FROM the node, \n",
    "# an entire column of 1s indicates arrows TO the node\n",
    "A = np.array([[0,1,0,0,0,0],\n",
    "              [0,0,1,1,0,0],\n",
    "              [0,0,0,0,1,0],\n",
    "              [0,0,0,0,1,0],\n",
    "              [0,0,0,0,0,1],\n",
    "              [0,0,0,0,0,0]])\n",
    "\n",
    "# F - feature list (node type)\n",
    "# row indicates node \n",
    "# col indicates node type\n",
    "F = np.array([[0,1,0],\n",
    "              [0,0,1],\n",
    "              [1,0,0],\n",
    "              [1,0,0],\n",
    "              [1,0,0],\n",
    "              [1,0,0]])"
   ]
  },
  {
   "cell_type": "code",
   "execution_count": 123,
   "metadata": {},
   "outputs": [],
   "source": [
    "G = nx.from_numpy_matrix(A, create_using=nx.DiGraph())"
   ]
  },
  {
   "cell_type": "markdown",
   "metadata": {},
   "source": [
    "G = nx.DiGraph()\n",
    "G.add_edge('x','b', capacity = 1.0)\n",
    "G.add_edge('b','d', capacity = 1.0)\n",
    "G.add_edge('b','e', capacity = 1.0)\n",
    "G.add_edge('d','f', capacity = 1.0)\n",
    "G.add_edge('e','f', capacity = 1.0)\n",
    "\n",
    "G.add_edge('f','g', capacity = 1.0)\n",
    "G.add_edge('g','h', capacity = 1.0)\n",
    "G.add_edge('h','j', capacity = 1.0)\n",
    "G.add_edge('g','i', capacity = 1.0)\n",
    "G.add_edge('i','j', capacity = 1.0)\n",
    "G.add_edge('j','y', capacity = 1.0)"
   ]
  },
  {
   "cell_type": "code",
   "execution_count": 124,
   "metadata": {},
   "outputs": [
    {
     "data": {
      "image/png": "[encoded data removed]",
      "text/plain": [
       "<Figure size 432x288 with 1 Axes>"
      ]
     },
     "metadata": {},
     "output_type": "display_data"
    }
   ],
   "source": [
    "# visualise graph\n",
    "pos = nx.circular_layout(G)\n",
    "nx.draw_circular(G, node_size=750)\n",
    "labels = {i for i in G.nodes()}\n",
    "nx.draw_networkx_labels(G, pos, font_size=15)\n",
    "plt.show()"
   ]
  },
  {
   "cell_type": "code",
   "execution_count": 136,
   "metadata": {},
   "outputs": [
    {
     "name": "stdout",
     "output_type": "stream",
     "text": [
      "[0, 1, 2, 4, 5]\n",
      "[0, 1, 3, 4, 5]\n"
     ]
    }
   ],
   "source": [
    "# Get all paths from source (DAG start) to sink (DAG end)\n",
    "# one of these must be successful for the system to be successful\n",
    "sys_success_paths = []\n",
    "for path in nx.all_simple_paths(G, source=min(G.nodes()), target=max(G.nodes())):\n",
    "    print(path)\n",
    "    sys_success_paths.append(path)\n",
    "    "
   ]
  },
  {
   "cell_type": "code",
   "execution_count": 137,
   "metadata": {},
   "outputs": [
    {
     "data": {
      "text/plain": [
       "[[0, 1, 2, 4, 5], [0, 1, 3, 4, 5]]"
      ]
     },
     "execution_count": 137,
     "metadata": {},
     "output_type": "execute_result"
    }
   ],
   "source": [
    "sys_success_paths"
   ]
  },
  {
   "cell_type": "code",
   "execution_count": 140,
   "metadata": {},
   "outputs": [
    {
     "data": {
      "text/plain": [
       "[0, 1, 2, 4, 5]"
      ]
     },
     "execution_count": 140,
     "metadata": {},
     "output_type": "execute_result"
    }
   ],
   "source": [
    "sys_success_paths[0]"
   ]
  },
  {
   "cell_type": "code",
   "execution_count": 141,
   "metadata": {},
   "outputs": [],
   "source": [
    "bool_test = np.array([0,1,0,1,0,1])"
   ]
  },
  {
   "cell_type": "code",
   "execution_count": 144,
   "metadata": {},
   "outputs": [
    {
     "data": {
      "text/plain": [
       "array([0, 1, 0, 0, 1])"
      ]
     },
     "execution_count": 144,
     "metadata": {},
     "output_type": "execute_result"
    }
   ],
   "source": [
    "bool_test[sys_success_paths[0]]"
   ]
  },
  {
   "cell_type": "code",
   "execution_count": 143,
   "metadata": {},
   "outputs": [
    {
     "data": {
      "text/plain": [
       "array([0, 1, 0, 1, 0, 1])"
      ]
     },
     "execution_count": 143,
     "metadata": {},
     "output_type": "execute_result"
    }
   ],
   "source": [
    "np.take(sys_success_paths[0], bool_test)"
   ]
  },
  {
   "cell_type": "code",
   "execution_count": 177,
   "metadata": {},
   "outputs": [
    {
     "name": "stdout",
     "output_type": "stream",
     "text": [
      "Total Success: 2/20 (10.00%)\n",
      "\n",
      "\t\t--- RESULTS ---\n",
      "Iteration 0\n",
      "    Path\tSuccessful Nodes\tSuccess\n",
      "[0 1 1 0 0]\t\t40.00%\t\tFalse\n",
      "[0 1 1 0 0]\t\t40.00%\t\tFalse\n",
      "Iteration 1\n",
      "    Path\tSuccessful Nodes\tSuccess\n",
      "[1 0 0 1 0]\t\t40.00%\t\tFalse\n",
      "[1 0 0 1 0]\t\t40.00%\t\tFalse\n",
      "Iteration 2\n",
      "    Path\tSuccessful Nodes\tSuccess\n",
      "[0 0 1 1 0]\t\t40.00%\t\tFalse\n",
      "[0 0 0 1 0]\t\t20.00%\t\tFalse\n",
      "Iteration 3\n",
      "    Path\tSuccessful Nodes\tSuccess\n",
      "[0 1 1 1 0]\t\t60.00%\t\tFalse\n",
      "[0 1 0 1 0]\t\t40.00%\t\tFalse\n",
      "Iteration 4\n",
      "    Path\tSuccessful Nodes\tSuccess\n",
      "[0 1 1 1 0]\t\t60.00%\t\tFalse\n",
      "[0 1 1 1 0]\t\t60.00%\t\tFalse\n",
      "Iteration 5\n",
      "    Path\tSuccessful Nodes\tSuccess\n",
      "[0 0 1 1 0]\t\t40.00%\t\tFalse\n",
      "[0 0 0 1 0]\t\t20.00%\t\tFalse\n",
      "Iteration 6\n",
      "    Path\tSuccessful Nodes\tSuccess\n",
      "[0 0 1 0 0]\t\t20.00%\t\tFalse\n",
      "[0 0 1 0 0]\t\t20.00%\t\tFalse\n",
      "Iteration 7\n",
      "    Path\tSuccessful Nodes\tSuccess\n",
      "[0 1 1 0 1]\t\t60.00%\t\tFalse\n",
      "[0 1 1 0 1]\t\t60.00%\t\tFalse\n",
      "Iteration 8\n",
      "    Path\tSuccessful Nodes\tSuccess\n",
      "[1 1 1 1 1]\t\t100.00%\t\tTrue\n",
      "[1 1 1 1 1]\t\t100.00%\t\tTrue\n",
      "Iteration 9\n",
      "    Path\tSuccessful Nodes\tSuccess\n",
      "[0 0 0 0 0]\t\t0.00%\t\tFalse\n",
      "[0 0 0 0 0]\t\t0.00%\t\tFalse\n"
     ]
    }
   ],
   "source": [
    "# emulate system simulation\n",
    "# can make the path lookup matrix operation rather than a loop\n",
    "iters = 10\n",
    "count_success = 0\n",
    "result_output_str = []\n",
    "for iter in range(iters):\n",
    "    result_output_str.append(f'Iteration {iter}')\n",
    "    system_bool = np.random.randint(0,2,A.shape[0])\n",
    "    result_output_str.append(f'    Path\\tSuccessful Nodes\\tSuccess')\n",
    "    for path in sys_success_paths:\n",
    "        path_bool = system_bool[path]\n",
    "        result_output_str.append(f'{path_bool}\\t\\t{(sum(path_bool)/len(path_bool))*100:0.2f}%\\t\\t{sum(path_bool) == len(path_bool)}')\n",
    "        if sum(path_bool) == len(path_bool):\n",
    "            count_success += 1\n",
    "\n",
    "# print results\n",
    "print(f'Total Success: {count_success}/{iters*len(sys_success_paths)} ({(count_success/(iters*len(sys_success_paths)))*100:0.2f}%)')\n",
    "print(f'\\n\\t\\t--- RESULTS ---')\n",
    "for result_output in result_output_str:\n",
    "    print(result_output)"
   ]
  },
  {
   "cell_type": "code",
   "execution_count": null,
   "metadata": {},
   "outputs": [],
   "source": []
  },
  {
   "cell_type": "code",
   "execution_count": null,
   "metadata": {},
   "outputs": [],
   "source": []
  },
  {
   "cell_type": "code",
   "execution_count": 118,
   "metadata": {},
   "outputs": [],
   "source": [
    "# list(nx.bridges(G))\n",
    "# list(nx.all_node_cuts(G))\n",
    "# nx.minimum_node_cut(G, 'x', 'y')"
   ]
  },
  {
   "cell_type": "code",
   "execution_count": null,
   "metadata": {},
   "outputs": [],
   "source": []
  }
 ],
 "metadata": {
  "kernelspec": {
   "display_name": "Python 3",
   "language": "python",
   "name": "python3"
  },
  "language_info": {
   "codemirror_mode": {
    "name": "ipython",
    "version": 3
   },
   "file_extension": ".py",
   "mimetype": "text/x-python",
   "name": "python",
   "nbconvert_exporter": "python",
   "pygments_lexer": "ipython3",
   "version": "3.7.3"
  }
 },
 "nbformat": 4,
 "nbformat_minor": 4
}
